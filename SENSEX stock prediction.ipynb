{
 "cells": [
  {
   "cell_type": "code",
   "execution_count": 1,
   "metadata": {},
   "outputs": [],
   "source": [
    "import pandas as pd\n",
    "import numpy as np\n",
    "from pandas_datareader import data as pdr\n",
    "import datetime as dt\n",
    "import matplotlib.pyplot as plt\n",
    "import yfinance as yf"
   ]
  },
  {
   "cell_type": "code",
   "execution_count": 2,
   "metadata": {},
   "outputs": [
    {
     "name": "stdout",
     "output_type": "stream",
     "text": [
      "[*********************100%***********************]  1 of 1 completed\n"
     ]
    }
   ],
   "source": [
    "#Data collection\n",
    "start = dt.datetime(2019,1,1)\n",
    "end =  dt.datetime.now()\n",
    "df = yf.download(\"^BSESN\", start, end, interval=\"1wk\")"
   ]
  },
  {
   "cell_type": "code",
   "execution_count": 3,
   "metadata": {},
   "outputs": [],
   "source": [
    "df.to_csv('sensex.csv')"
   ]
  },
  {
   "cell_type": "code",
   "execution_count": 4,
   "metadata": {},
   "outputs": [],
   "source": [
    "DF = pd.read_csv('sensex.csv')"
   ]
  },
  {
   "cell_type": "code",
   "execution_count": 5,
   "metadata": {},
   "outputs": [
    {
     "data": {
      "text/html": [
       "<div>\n",
       "<style scoped>\n",
       "    .dataframe tbody tr th:only-of-type {\n",
       "        vertical-align: middle;\n",
       "    }\n",
       "\n",
       "    .dataframe tbody tr th {\n",
       "        vertical-align: top;\n",
       "    }\n",
       "\n",
       "    .dataframe thead th {\n",
       "        text-align: right;\n",
       "    }\n",
       "</style>\n",
       "<table border=\"1\" class=\"dataframe\">\n",
       "  <thead>\n",
       "    <tr style=\"text-align: right;\">\n",
       "      <th></th>\n",
       "      <th>Date</th>\n",
       "      <th>Open</th>\n",
       "      <th>High</th>\n",
       "      <th>Low</th>\n",
       "      <th>Close</th>\n",
       "      <th>Adj Close</th>\n",
       "      <th>Volume</th>\n",
       "    </tr>\n",
       "  </thead>\n",
       "  <tbody>\n",
       "    <tr>\n",
       "      <th>0</th>\n",
       "      <td>2018-12-31</td>\n",
       "      <td>36198.128906</td>\n",
       "      <td>36236.699219</td>\n",
       "      <td>35382.078125</td>\n",
       "      <td>35695.101562</td>\n",
       "      <td>35695.101562</td>\n",
       "      <td>30578400</td>\n",
       "    </tr>\n",
       "    <tr>\n",
       "      <th>1</th>\n",
       "      <td>2019-01-07</td>\n",
       "      <td>35971.179688</td>\n",
       "      <td>36269.308594</td>\n",
       "      <td>35753.949219</td>\n",
       "      <td>36009.839844</td>\n",
       "      <td>36009.839844</td>\n",
       "      <td>48419100</td>\n",
       "    </tr>\n",
       "    <tr>\n",
       "      <th>2</th>\n",
       "      <td>2019-01-14</td>\n",
       "      <td>36113.269531</td>\n",
       "      <td>36469.980469</td>\n",
       "      <td>35691.750000</td>\n",
       "      <td>36386.609375</td>\n",
       "      <td>36386.609375</td>\n",
       "      <td>105800</td>\n",
       "    </tr>\n",
       "    <tr>\n",
       "      <th>3</th>\n",
       "      <td>2019-01-21</td>\n",
       "      <td>36467.121094</td>\n",
       "      <td>36701.031250</td>\n",
       "      <td>35953.148438</td>\n",
       "      <td>36025.539062</td>\n",
       "      <td>36025.539062</td>\n",
       "      <td>96400</td>\n",
       "    </tr>\n",
       "    <tr>\n",
       "      <th>4</th>\n",
       "      <td>2019-01-28</td>\n",
       "      <td>36099.621094</td>\n",
       "      <td>36778.140625</td>\n",
       "      <td>35375.511719</td>\n",
       "      <td>36469.429688</td>\n",
       "      <td>36469.429688</td>\n",
       "      <td>86086000</td>\n",
       "    </tr>\n",
       "  </tbody>\n",
       "</table>\n",
       "</div>"
      ],
      "text/plain": [
       "         Date          Open          High           Low         Close  \\\n",
       "0  2018-12-31  36198.128906  36236.699219  35382.078125  35695.101562   \n",
       "1  2019-01-07  35971.179688  36269.308594  35753.949219  36009.839844   \n",
       "2  2019-01-14  36113.269531  36469.980469  35691.750000  36386.609375   \n",
       "3  2019-01-21  36467.121094  36701.031250  35953.148438  36025.539062   \n",
       "4  2019-01-28  36099.621094  36778.140625  35375.511719  36469.429688   \n",
       "\n",
       "      Adj Close    Volume  \n",
       "0  35695.101562  30578400  \n",
       "1  36009.839844  48419100  \n",
       "2  36386.609375    105800  \n",
       "3  36025.539062     96400  \n",
       "4  36469.429688  86086000  "
      ]
     },
     "execution_count": 5,
     "metadata": {},
     "output_type": "execute_result"
    }
   ],
   "source": [
    "DF.head()"
   ]
  },
  {
   "cell_type": "code",
   "execution_count": 6,
   "metadata": {},
   "outputs": [],
   "source": [
    "data = DF.reset_index()['Close']"
   ]
  },
  {
   "cell_type": "code",
   "execution_count": 7,
   "metadata": {},
   "outputs": [
    {
     "data": {
      "text/plain": [
       "(134,)"
      ]
     },
     "execution_count": 7,
     "metadata": {},
     "output_type": "execute_result"
    }
   ],
   "source": [
    "data.shape"
   ]
  },
  {
   "cell_type": "code",
   "execution_count": 8,
   "metadata": {},
   "outputs": [
    {
     "data": {
      "text/plain": [
       "[<matplotlib.lines.Line2D at 0x1bb26d21e20>]"
      ]
     },
     "execution_count": 8,
     "metadata": {},
     "output_type": "execute_result"
    },
    {
     "data": {
      "image/png": "[encoded data removed]",
      "text/plain": [
       "<Figure size 432x288 with 1 Axes>"
      ]
     },
     "metadata": {
      "needs_background": "light"
     },
     "output_type": "display_data"
    }
   ],
   "source": [
    "plt.plot(data)"
   ]
  },
  {
   "cell_type": "markdown",
   "metadata": {},
   "source": [
    "since LSTM is being used in this project, I'm going to use MinMax scaler cause LSTM is highly sensitive to the scale of data"
   ]
  },
  {
   "cell_type": "code",
   "execution_count": 9,
   "metadata": {},
   "outputs": [],
   "source": [
    "from sklearn.preprocessing import MinMaxScaler\n",
    "scaler = MinMaxScaler(feature_range=(0, 1))\n",
    "data = scaler.fit_transform(np.array(data).reshape(-1, 1))"
   ]
  },
  {
   "cell_type": "code",
   "execution_count": 10,
   "metadata": {},
   "outputs": [
    {
     "data": {
      "text/plain": [
       "(134, 1)"
      ]
     },
     "execution_count": 10,
     "metadata": {},
     "output_type": "execute_result"
    }
   ],
   "source": [
    "data.shape"
   ]
  },
  {
   "cell_type": "markdown",
   "metadata": {},
   "source": [
    "Splitting dataset into train and test set"
   ]
  },
  {
   "cell_type": "code",
   "execution_count": 11,
   "metadata": {},
   "outputs": [],
   "source": [
    "train_size = int(len(data)*0.7)\n",
    "train_set, test_set = data[0:train_size, :], data[train_size:len(data), :1]"
   ]
  },
  {
   "cell_type": "code",
   "execution_count": 12,
   "metadata": {},
   "outputs": [],
   "source": [
    "## converting the array of values into dataset matrices(x & y)\n",
    "import numpy\n",
    "def create_dataset(dataset, time_step=1):\n",
    "    dataX, dataY = [], []\n",
    "    for i in range(len(dataset)-time_step-1):\n",
    "        a = dataset[i:(i+time_step), 0]\n",
    "        dataX.append(a)\n",
    "        dataY.append(dataset[i+time_step])\n",
    "    return numpy.array(dataX), numpy.array(dataY)      "
   ]
  },
  {
   "cell_type": "code",
   "execution_count": 13,
   "metadata": {},
   "outputs": [],
   "source": [
    "##reshaping the data\n",
    "time_step = 3\n",
    "x_train, y_train = create_dataset(train_set, time_step)\n",
    "x_test, y_test = create_dataset(test_set, time_step)"
   ]
  },
  {
   "cell_type": "code",
   "execution_count": 14,
   "metadata": {},
   "outputs": [],
   "source": [
    "##reshaping the data to feed into a stacked LSTM [samples, time_steps, features]\n",
    "x_train = x_train.reshape(x_train.shape[0], x_train.shape[1], 1)\n",
    "x_test = x_test.reshape(x_test.shape[0], x_test.shape[1], 1)"
   ]
  },
  {
   "cell_type": "markdown",
   "metadata": {},
   "source": [
    "Creating the stacked LSTM model"
   ]
  },
  {
   "cell_type": "code",
   "execution_count": 15,
   "metadata": {},
   "outputs": [],
   "source": [
    "from tensorflow.keras.models import Sequential\n",
    "from tensorflow.keras.layers import Dense\n",
    "from tensorflow.keras.layers import LSTM"
   ]
  },
  {
   "cell_type": "code",
   "execution_count": 16,
   "metadata": {},
   "outputs": [],
   "source": [
    "model = Sequential()\n",
    "model.add(LSTM(50, return_sequences=True, input_shape=(3, 1)))\n",
    "model.add(LSTM(50, return_sequences=True))\n",
    "model.add(LSTM(50))\n",
    "model.add(Dense(1))\n",
    "model.compile(loss='mean_squared_error', optimizer='adam')"
   ]
  },
  {
   "cell_type": "code",
   "execution_count": 17,
   "metadata": {},
   "outputs": [
    {
     "name": "stdout",
     "output_type": "stream",
     "text": [
      "Model: \"sequential\"\n",
      "_________________________________________________________________\n",
      "Layer (type)                 Output Shape              Param #   \n",
      "=================================================================\n",
      "lstm (LSTM)                  (None, 3, 50)             10400     \n",
      "_________________________________________________________________\n",
      "lstm_1 (LSTM)                (None, 3, 50)             20200     \n",
      "_________________________________________________________________\n",
      "lstm_2 (LSTM)                (None, 50)                20200     \n",
      "_________________________________________________________________\n",
      "dense (Dense)                (None, 1)                 51        \n",
      "=================================================================\n",
      "Total params: 50,851\n",
      "Trainable params: 50,851\n",
      "Non-trainable params: 0\n",
      "_________________________________________________________________\n"
     ]
    }
   ],
   "source": [
    "model.summary()"
   ]
  },
  {
   "cell_type": "code",
   "execution_count": 18,
   "metadata": {},
   "outputs": [
    {
     "name": "stdout",
     "output_type": "stream",
     "text": [
      "Epoch 1/50\n",
      "12/12 [==============================] - 3s 62ms/step - loss: 0.1281 - val_loss: 0.4372\n",
      "Epoch 2/50\n",
      "12/12 [==============================] - 0s 4ms/step - loss: 0.0324 - val_loss: 0.0494\n",
      "Epoch 3/50\n",
      "12/12 [==============================] - 0s 4ms/step - loss: 0.0143 - val_loss: 0.1403\n",
      "Epoch 4/50\n",
      "12/12 [==============================] - 0s 11ms/step - loss: 0.0107 - val_loss: 0.1251\n",
      "Epoch 5/50\n",
      "12/12 [==============================] - 0s 4ms/step - loss: 0.0089 - val_loss: 0.0901\n",
      "Epoch 6/50\n",
      "12/12 [==============================] - 0s 5ms/step - loss: 0.0085 - val_loss: 0.0915\n",
      "Epoch 7/50\n",
      "12/12 [==============================] - 0s 4ms/step - loss: 0.0078 - val_loss: 0.0763\n",
      "Epoch 8/50\n",
      "12/12 [==============================] - 0s 4ms/step - loss: 0.0073 - val_loss: 0.0708\n",
      "Epoch 9/50\n",
      "12/12 [==============================] - 0s 4ms/step - loss: 0.0063 - val_loss: 0.0298\n",
      "Epoch 10/50\n",
      "12/12 [==============================] - 0s 4ms/step - loss: 0.0063 - val_loss: 0.0364\n",
      "Epoch 11/50\n",
      "12/12 [==============================] - 0s 5ms/step - loss: 0.0054 - val_loss: 0.0198\n",
      "Epoch 12/50\n",
      "12/12 [==============================] - 0s 5ms/step - loss: 0.0052 - val_loss: 0.0055\n",
      "Epoch 13/50\n",
      "12/12 [==============================] - 0s 4ms/step - loss: 0.0052 - val_loss: 0.0094\n",
      "Epoch 14/50\n",
      "12/12 [==============================] - 0s 4ms/step - loss: 0.0046 - val_loss: 0.0090\n",
      "Epoch 15/50\n",
      "12/12 [==============================] - 0s 4ms/step - loss: 0.0049 - val_loss: 0.0133\n",
      "Epoch 16/50\n",
      "12/12 [==============================] - 0s 4ms/step - loss: 0.0049 - val_loss: 0.0065\n",
      "Epoch 17/50\n",
      "12/12 [==============================] - 0s 4ms/step - loss: 0.0044 - val_loss: 0.0137\n",
      "Epoch 18/50\n",
      "12/12 [==============================] - 0s 4ms/step - loss: 0.0058 - val_loss: 0.0048\n",
      "Epoch 19/50\n",
      "12/12 [==============================] - 0s 5ms/step - loss: 0.0059 - val_loss: 0.0043\n",
      "Epoch 20/50\n",
      "12/12 [==============================] - 0s 4ms/step - loss: 0.0045 - val_loss: 0.0063\n",
      "Epoch 21/50\n",
      "12/12 [==============================] - 0s 4ms/step - loss: 0.0048 - val_loss: 0.0161\n",
      "Epoch 22/50\n",
      "12/12 [==============================] - 0s 4ms/step - loss: 0.0047 - val_loss: 0.0059\n",
      "Epoch 23/50\n",
      "12/12 [==============================] - 0s 5ms/step - loss: 0.0046 - val_loss: 0.0054\n",
      "Epoch 24/50\n",
      "12/12 [==============================] - 0s 5ms/step - loss: 0.0045 - val_loss: 0.0062\n",
      "Epoch 25/50\n",
      "12/12 [==============================] - 0s 4ms/step - loss: 0.0044 - val_loss: 0.0062\n",
      "Epoch 26/50\n",
      "12/12 [==============================] - 0s 4ms/step - loss: 0.0046 - val_loss: 0.0053\n",
      "Epoch 27/50\n",
      "12/12 [==============================] - 0s 4ms/step - loss: 0.0046 - val_loss: 0.0049\n",
      "Epoch 28/50\n",
      "12/12 [==============================] - 0s 5ms/step - loss: 0.0045 - val_loss: 0.0056\n",
      "Epoch 29/50\n",
      "12/12 [==============================] - 0s 4ms/step - loss: 0.0047 - val_loss: 0.0055\n",
      "Epoch 30/50\n",
      "12/12 [==============================] - 0s 4ms/step - loss: 0.0045 - val_loss: 0.0067\n",
      "Epoch 31/50\n",
      "12/12 [==============================] - 0s 4ms/step - loss: 0.0048 - val_loss: 0.0058\n",
      "Epoch 32/50\n",
      "12/12 [==============================] - 0s 4ms/step - loss: 0.0044 - val_loss: 0.0049\n",
      "Epoch 33/50\n",
      "12/12 [==============================] - 0s 5ms/step - loss: 0.0046 - val_loss: 0.0048\n",
      "Epoch 34/50\n",
      "12/12 [==============================] - 0s 4ms/step - loss: 0.0046 - val_loss: 0.0046\n",
      "Epoch 35/50\n",
      "12/12 [==============================] - 0s 5ms/step - loss: 0.0045 - val_loss: 0.0046\n",
      "Epoch 36/50\n",
      "12/12 [==============================] - 0s 5ms/step - loss: 0.0049 - val_loss: 0.0075\n",
      "Epoch 37/50\n",
      "12/12 [==============================] - 0s 5ms/step - loss: 0.0045 - val_loss: 0.0049\n",
      "Epoch 38/50\n",
      "12/12 [==============================] - 0s 5ms/step - loss: 0.0043 - val_loss: 0.0048\n",
      "Epoch 39/50\n",
      "12/12 [==============================] - 0s 5ms/step - loss: 0.0043 - val_loss: 0.0049\n",
      "Epoch 40/50\n",
      "12/12 [==============================] - 0s 4ms/step - loss: 0.0048 - val_loss: 0.0046\n",
      "Epoch 41/50\n",
      "12/12 [==============================] - 0s 4ms/step - loss: 0.0044 - val_loss: 0.0055\n",
      "Epoch 42/50\n",
      "12/12 [==============================] - 0s 5ms/step - loss: 0.0043 - val_loss: 0.0053\n",
      "Epoch 43/50\n",
      "12/12 [==============================] - 0s 5ms/step - loss: 0.0046 - val_loss: 0.0082\n",
      "Epoch 44/50\n",
      "12/12 [==============================] - 0s 5ms/step - loss: 0.0060 - val_loss: 0.0081\n",
      "Epoch 45/50\n",
      "12/12 [==============================] - 0s 5ms/step - loss: 0.0044 - val_loss: 0.0048\n",
      "Epoch 46/50\n",
      "12/12 [==============================] - 0s 4ms/step - loss: 0.0052 - val_loss: 0.0079\n",
      "Epoch 47/50\n",
      "12/12 [==============================] - 0s 5ms/step - loss: 0.0050 - val_loss: 0.0046\n",
      "Epoch 48/50\n",
      "12/12 [==============================] - 0s 4ms/step - loss: 0.0045 - val_loss: 0.0052\n",
      "Epoch 49/50\n",
      "12/12 [==============================] - 0s 4ms/step - loss: 0.0041 - val_loss: 0.0109\n",
      "Epoch 50/50\n",
      "12/12 [==============================] - 0s 5ms/step - loss: 0.0048 - val_loss: 0.0068\n"
     ]
    },
    {
     "data": {
      "text/plain": [
       "<tensorflow.python.keras.callbacks.History at 0x1bb36bbd310>"
      ]
     },
     "execution_count": 18,
     "metadata": {},
     "output_type": "execute_result"
    }
   ],
   "source": [
    "model.fit(x_train, y_train, validation_data=(x_test, y_test), epochs=50, batch_size=8, verbose=1)"
   ]
  },
  {
   "cell_type": "code",
   "execution_count": 19,
   "metadata": {},
   "outputs": [
    {
     "data": {
      "text/plain": [
       "[<matplotlib.lines.Line2D at 0x1bb3e654520>]"
      ]
     },
     "execution_count": 19,
     "metadata": {},
     "output_type": "execute_result"
    },
    {
     "data": {
      "image/png": "[encoded data removed]",
      "text/plain": [
       "<Figure size 432x288 with 1 Axes>"
      ]
     },
     "metadata": {
      "needs_background": "light"
     },
     "output_type": "display_data"
    }
   ],
   "source": [
    "loss_per_epochs = model.history.history['loss']\n",
    "plt.plot(range(len(loss_per_epochs)), loss_per_epochs)"
   ]
  },
  {
   "cell_type": "code",
   "execution_count": 20,
   "metadata": {},
   "outputs": [],
   "source": [
    "import tensorflow as tf"
   ]
  },
  {
   "cell_type": "code",
   "execution_count": 21,
   "metadata": {},
   "outputs": [],
   "source": [
    "### making predictions and checking performance matrices\n",
    "train_predict = model.predict(x_train)\n",
    "test_predict = model.predict(x_test)"
   ]
  },
  {
   "cell_type": "code",
   "execution_count": 22,
   "metadata": {},
   "outputs": [],
   "source": [
    "###inverse_transforming the data to it's original form\n",
    "train_predict = scaler.inverse_transform(train_predict)\n",
    "test_predict = scaler.inverse_transform(test_predict)"
   ]
  },
  {
   "cell_type": "code",
   "execution_count": 23,
   "metadata": {},
   "outputs": [
    {
     "data": {
      "text/plain": [
       "38024.95229381938"
      ]
     },
     "execution_count": 23,
     "metadata": {},
     "output_type": "execute_result"
    }
   ],
   "source": [
    "###calculating the rmse score of performance matrices\n",
    "import math\n",
    "from sklearn.metrics import mean_squared_error\n",
    "math.sqrt(mean_squared_error(y_train, train_predict))"
   ]
  },
  {
   "cell_type": "code",
   "execution_count": 24,
   "metadata": {},
   "outputs": [
    {
     "data": {
      "text/plain": [
       "50028.75268935667"
      ]
     },
     "execution_count": 24,
     "metadata": {},
     "output_type": "execute_result"
    }
   ],
   "source": [
    "math.sqrt(mean_squared_error(y_test, test_predict))"
   ]
  },
  {
   "cell_type": "code",
   "execution_count": 25,
   "metadata": {},
   "outputs": [
    {
     "data": {
      "image/png": "[encoded data removed]",
      "text/plain": [
       "<Figure size 432x288 with 1 Axes>"
      ]
     },
     "metadata": {
      "needs_background": "light"
     },
     "output_type": "display_data"
    }
   ],
   "source": [
    "###plotting\n",
    "# shift train predictions for plotting\n",
    "look_back = 3\n",
    "trainPredictPlot = numpy.empty_like(data)\n",
    "trainPredictPlot[:, :] = np.nan\n",
    "trainPredictPlot[look_back:len(train_predict)+look_back, :] = train_predict\n",
    "# shift test prediction for plotting\n",
    "testPredictPlot = numpy.empty_like(data)\n",
    "testPredictPlot[:, :] = np.nan\n",
    "testPredictPlot[len(train_predict)+(look_back*2)+1:len(data)-1, :] = test_predict\n",
    "#plotting baseline and predictions\n",
    "plt.plot(scaler.inverse_transform(data))\n",
    "plt.plot(trainPredictPlot)\n",
    "plt.plot(testPredictPlot)\n",
    "plt.show()"
   ]
  },
  {
   "cell_type": "markdown",
   "metadata": {},
   "source": [
    "Prediction for next 30 days"
   ]
  },
  {
   "cell_type": "code",
   "execution_count": 26,
   "metadata": {},
   "outputs": [
    {
     "data": {
      "text/plain": [
       "(1, 3)"
      ]
     },
     "execution_count": 26,
     "metadata": {},
     "output_type": "execute_result"
    }
   ],
   "source": [
    "x_input = test_set[len(test_set)-3: ].reshape(1, -1)\n",
    "x_input.shape"
   ]
  },
  {
   "cell_type": "code",
   "execution_count": 27,
   "metadata": {},
   "outputs": [],
   "source": [
    "temp_input = list(x_input)\n",
    "temp_input = temp_input[0].tolist()"
   ]
  },
  {
   "cell_type": "code",
   "execution_count": 28,
   "metadata": {},
   "outputs": [
    {
     "name": "stdout",
     "output_type": "stream",
     "text": [
      "[1.0920848]\n",
      "4\n",
      "1 Day input [0.97819745 0.99386958 1.09208477]\n",
      "1 Day output [[1.1206553]]\n",
      "2 Day input [0.99386958 1.09208477 1.1206553 ]\n",
      "2 Day output [[1.1845821]]\n",
      "3 Day input [1.09208477 1.1206553  1.18458211]\n",
      "3 Day output [[1.2818655]]\n",
      "4 Day input [1.1206553  1.18458211 1.28186548]\n",
      "4 Day output [[1.356326]]\n",
      "5 Day input [1.18458211 1.28186548 1.35632598]\n",
      "5 Day output [[1.4688457]]\n",
      "6 Day input [1.28186548 1.35632598 1.46884573]\n",
      "6 Day output [[1.6048248]]\n",
      "7 Day input [1.35632598 1.46884573 1.60482478]\n",
      "7 Day output [[1.7500288]]\n",
      "8 Day input [1.46884573 1.60482478 1.75002885]\n",
      "8 Day output [[1.9375646]]\n",
      "9 Day input [1.60482478 1.75002885 1.93756461]\n",
      "9 Day output [[2.1542501]]\n",
      "10 Day input [1.75002885 1.93756461 2.15425014]\n",
      "10 Day output [[2.3976836]]\n",
      "11 Day input [1.93756461 2.15425014 2.39768362]\n",
      "11 Day output [[2.6755395]]\n",
      "12 Day input [2.15425014 2.39768362 2.67553949]\n",
      "12 Day output [[2.966757]]\n",
      "13 Day input [2.39768362 2.67553949 2.96675706]\n",
      "13 Day output [[3.2571068]]\n",
      "14 Day input [2.67553949 2.96675706 3.25710678]\n",
      "14 Day output [[3.532113]]\n",
      "15 Day input [2.96675706 3.25710678 3.53211308]\n",
      "15 Day output [[3.7725852]]\n",
      "16 Day input [3.25710678 3.53211308 3.77258515]\n",
      "16 Day output [[3.9719176]]\n",
      "17 Day input [3.53211308 3.77258515 3.97191763]\n",
      "17 Day output [[4.129338]]\n",
      "18 Day input [3.77258515 3.97191763 4.12933779]\n",
      "18 Day output [[4.24772]]\n",
      "19 Day input [3.97191763 4.12933779 4.24771976]\n",
      "19 Day output [[4.3342814]]\n",
      "20 Day input [4.12933779 4.24771976 4.33428144]\n",
      "20 Day output [[4.396103]]\n",
      "21 Day input [4.24771976 4.33428144 4.39610291]\n",
      "21 Day output [[4.439346]]\n",
      "22 Day input [4.33428144 4.39610291 4.43934584]\n",
      "22 Day output [[4.469306]]\n",
      "23 Day input [4.39610291 4.43934584 4.46930599]\n",
      "23 Day output [[4.4898815]]\n",
      "24 Day input [4.43934584 4.46930599 4.48988152]\n",
      "24 Day output [[4.5039043]]\n",
      "25 Day input [4.46930599 4.48988152 4.50390434]\n",
      "25 Day output [[4.51344]]\n",
      "26 Day input [4.48988152 4.50390434 4.51344013]\n",
      "26 Day output [[4.519903]]\n",
      "27 Day input [4.50390434 4.51344013 4.51990318]\n",
      "27 Day output [[4.524273]]\n",
      "28 Day input [4.51344013 4.51990318 4.52427292]\n",
      "28 Day output [[4.5272255]]\n",
      "29 Day input [4.51990318 4.52427292 4.52722549]\n",
      "29 Day output [[4.5292187]]\n",
      "[[1.0920847654342651], [1.1206552982330322], [1.1845821142196655], [1.2818654775619507], [1.3563259840011597], [1.4688457250595093], [1.6048247814178467], [1.7500288486480713], [1.9375646114349365], [2.154250144958496], [2.397683620452881], [2.675539493560791], [2.96675705909729], [3.2571067810058594], [3.5321130752563477], [3.772585153579712], [3.9719176292419434], [4.129337787628174], [4.247719764709473], [4.3342814445495605], [4.3961029052734375], [4.439345836639404], [4.469305992126465], [4.48988151550293], [4.503904342651367], [4.513440132141113], [4.519903182983398], [4.524272918701172], [4.527225494384766], [4.529218673706055]]\n"
     ]
    }
   ],
   "source": [
    "##predicting the data\n",
    "from numpy import array\n",
    "lst_output = []\n",
    "n_steps = 3\n",
    "i = 0\n",
    "while(i<30):\n",
    "    if(len(temp_input)>3):\n",
    "        x_input = np.array(temp_input[1:])\n",
    "        print(\"{} Day input {}\".format(i, x_input))\n",
    "        x_input = x_input.reshape(1, -1)\n",
    "        x_input = x_input.reshape(1, n_steps, 1)\n",
    "        yhat = model.predict(x_input, verbose=0)\n",
    "        print(\"{} Day output {}\".format(i, yhat))\n",
    "        temp_input.extend(yhat[0].tolist())\n",
    "        temp_input = temp_input[1:]\n",
    "        lst_output.extend(yhat.tolist())\n",
    "        i = i+1\n",
    "    else:\n",
    "        x_input = x_input.reshape(1, n_steps, 1)\n",
    "        yhat = model.predict(x_input, verbose=0)\n",
    "        print(yhat[0])\n",
    "        temp_input.extend(yhat[0].tolist())\n",
    "        print(len(temp_input))\n",
    "        lst_output.extend(yhat.tolist())\n",
    "        i = i+1\n",
    "print(lst_output)"
   ]
  },
  {
   "cell_type": "code",
   "execution_count": 29,
   "metadata": {},
   "outputs": [],
   "source": [
    "day_new = np.arange(1,4)\n",
    "day_pred = np.arange(4,34)"
   ]
  },
  {
   "cell_type": "code",
   "execution_count": 30,
   "metadata": {},
   "outputs": [
    {
     "data": {
      "text/plain": [
       "134"
      ]
     },
     "execution_count": 30,
     "metadata": {},
     "output_type": "execute_result"
    }
   ],
   "source": [
    "len(data)"
   ]
  },
  {
   "cell_type": "code",
   "execution_count": 31,
   "metadata": {},
   "outputs": [],
   "source": [
    "data1 = data.tolist()\n",
    "data1.extend(lst_output)"
   ]
  },
  {
   "cell_type": "code",
   "execution_count": 32,
   "metadata": {},
   "outputs": [
    {
     "data": {
      "text/plain": [
       "[<matplotlib.lines.Line2D at 0x1bb409603d0>]"
      ]
     },
     "execution_count": 32,
     "metadata": {},
     "output_type": "execute_result"
    },
    {
     "data": {
      "image/png": "[encoded data removed]",
      "text/plain": [
       "<Figure size 432x288 with 1 Axes>"
      ]
     },
     "metadata": {
      "needs_background": "light"
     },
     "output_type": "display_data"
    }
   ],
   "source": [
    "plt.plot(day_new, scaler.inverse_transform(data[(len(data)-3):]))\n",
    "plt.plot(day_pred, scaler.inverse_transform(lst_output))"
   ]
  },
  {
   "cell_type": "code",
   "execution_count": 34,
   "metadata": {},
   "outputs": [
    {
     "data": {
      "text/plain": [
       "[<matplotlib.lines.Line2D at 0x1bb40964850>]"
      ]
     },
     "execution_count": 34,
     "metadata": {},
     "output_type": "execute_result"
    },
    {
     "data": {
      "image/png": "[encoded data removed]",
      "text/plain": [
       "<Figure size 432x288 with 1 Axes>"
      ]
     },
     "metadata": {
      "needs_background": "light"
     },
     "output_type": "display_data"
    }
   ],
   "source": [
    "data1 = data.tolist()\n",
    "data1.extend(lst_output)\n",
    "plt.plot(data1[125:])"
   ]
  },
  {
   "cell_type": "code",
   "execution_count": null,
   "metadata": {},
   "outputs": [],
   "source": []
  }
 ],
 "metadata": {
  "kernelspec": {
   "display_name": "Python 3",
   "language": "python",
   "name": "python3"
  },
  "language_info": {
   "codemirror_mode": {
    "name": "ipython",
    "version": 3
   },
   "file_extension": ".py",
   "mimetype": "text/x-python",
   "name": "python",
   "nbconvert_exporter": "python",
   "pygments_lexer": "ipython3",
   "version": "3.8.5"
  }
 },
 "nbformat": 4,
 "nbformat_minor": 4
}
